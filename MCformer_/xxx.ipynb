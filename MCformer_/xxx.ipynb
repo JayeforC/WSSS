{
 "cells": [
  {
   "cell_type": "code",
   "execution_count": 5,
   "metadata": {},
   "outputs": [
    {
     "name": "stdout",
     "output_type": "stream",
     "text": [
      "torch.Size([1, 200, 1, 1, 1, 1])\n"
     ]
    }
   ],
   "source": [
    "import torch\n",
    "x = torch.randn(1,200,14,14)\n",
    "model = torch.nn.AdaptiveAvgPool2d(1)\n",
    "y = model(x)\n",
    "z=y.unsqueeze(3).unsqueeze(2)\n",
    "print(z.size())\n"
   ]
  }
 ],
 "metadata": {
  "kernelspec": {
   "display_name": "Python 3.9.7 ('pytorch')",
   "language": "python",
   "name": "python3"
  },
  "language_info": {
   "codemirror_mode": {
    "name": "ipython",
    "version": 3
   },
   "file_extension": ".py",
   "mimetype": "text/x-python",
   "name": "python",
   "nbconvert_exporter": "python",
   "pygments_lexer": "ipython3",
   "version": "3.9.7"
  },
  "orig_nbformat": 4,
  "vscode": {
   "interpreter": {
    "hash": "7c9c21c706ebf972d64f3012a5c3e1e7a56be9882271c91a7d0ccffdcc0e1451"
   }
  }
 },
 "nbformat": 4,
 "nbformat_minor": 2
}
