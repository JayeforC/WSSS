{
 "cells": [
  {
   "cell_type": "code",
   "execution_count": null,
   "metadata": {},
   "outputs": [],
   "source": [
    "from torch.utils.data import DataLoader, Dataset\n",
    "import torch\n",
    "import os\n",
    "import h5py\n",
    "import nibabel as nib\n",
    "import numpy as np\n",
    "\n",
    "class Synapse_dataset(Dataset):\n",
    "    def __init__(self, base_dir, list_dir, split, transform=None):\n",
    "        self.transform = transform  # using transform in torch!\n",
    "        self.split = split\n",
    "        self.sample_list = open(os.path.join(list_dir, self.split+'.txt')).readlines()\n",
    "        self.data_dir = base_dir\n",
    "\n",
    "    def __len__(self):\n",
    "        return len(self.sample_list)\n",
    "\n",
    "    def __getitem__(self, idx):\n",
    "        if self.split == \"train\":\n",
    "            slice_name = self.sample_list[idx].strip('\\n')\n",
    "            data_path = os.path.join(self.data_dir, slice_name+'.npz')\n",
    "            data = np.load(data_path)\n",
    "            image, label = data['image'], data['label']\n",
    "        else:\n",
    "            vol_name = self.sample_list[idx].strip('\\n')\n",
    "            filepath = self.data_dir + \"/{}.npy.h5\".format(vol_name)\n",
    "            data = h5py.File(filepath)\n",
    "            image, label = data['image'][:], data['label'][:]\n",
    "\n",
    "        sample = {'image': image, 'label': label}\n",
    "        if self.transform:\n",
    "            sample = self.transform(sample)\n",
    "        sample['case_name'] = self.sample_list[idx].strip('\\n')\n",
    "        return sample"
   ]
  }
 ],
 "metadata": {
  "kernelspec": {
   "display_name": "Python 3.9.7 ('Jaye_env')",
   "language": "python",
   "name": "python3"
  },
  "language_info": {
   "name": "python",
   "version": "3.9.7"
  },
  "orig_nbformat": 4,
  "vscode": {
   "interpreter": {
    "hash": "c49df28cb8043e4861845afe5dab2d6e4016c9a927211c6f6abe4f280cce830c"
   }
  }
 },
 "nbformat": 4,
 "nbformat_minor": 2
}
