{
 "cells": [
  {
   "cell_type": "code",
   "execution_count": 72,
   "metadata": {},
   "outputs": [
    {
     "name": "stdout",
     "output_type": "stream",
     "text": [
      "/home/jaye/Documents/MedicalDatasets/CHAOS/Train_Sets/MR/21/T2SPIR/DICOM_anon/IMG-0001-00004.dcm\n",
      "/home/jaye/Documents/MedicalDatasets/CHAOS/Train_Sets/MR/21/T2SPIR/Ground/IMG-0001-00004.png\n",
      "(256, 256)\n",
      "(256, 256)\n"
     ]
    },
    {
     "name": "stderr",
     "output_type": "stream",
     "text": [
      "  0%|          | 0/39 [00:00<?, ?it/s]"
     ]
    }
   ],
   "source": [
    "from this import d\n",
    "import numpy as np\n",
    "import pydicom as dicom\n",
    "from PIL import Image\n",
    "import glob\n",
    "import matplotlib.pyplot as plt\n",
    "import cv2\n",
    "import h5py\n",
    "import os\n",
    "from tqdm import tqdm\n",
    "## the directory with datatset\n",
    "root_dir = \"/home/jaye/Documents/MedicalDatasets/CHAOS/Train_Sets/\"\n",
    "files = glob.glob(root_dir)\n",
    "image_path = []\n",
    "label_path = []\n",
    "CT_test_list = ['003','004','007','009','011','012','013','015','017','020']\n",
    "test_list = ['004','006','007','009','011','012','014','016','017','018','023',\n",
    "             '024','025','026','027','028','029','030']\n",
    "\n",
    "data_model = \"MR\"\n",
    "# for CT\n",
    "if data_model == \"CT\":\n",
    "    CT_root = os.path.join(root_dir,\"CT\")\n",
    "    for each in os.listdir(CT_root):\n",
    "        each_path = os.path.join(CT_root,each) #\"/home/jaye/Documents/MedicalDatasets/CHAOS/Train_Sets/CT/1/\"\n",
    "        image_lst = os.listdir(os.path.join(each_path,'DICOM_anon')) # DICOM_anno and Ground\n",
    "        label_lst = os.listdir(os.path.join(each_path,'Ground'))\n",
    "        for i in range(len(image_lst)):\n",
    "            image_path.append(os.path.join(each_path,'DICOM_anon',image_lst[i]))\n",
    "            label_path.append(os.path.join(each_path,'Ground',image_lst[i]))\n",
    "#for MRI, only T2SPIR is loaded\n",
    "elif data_model == \"MR\":\n",
    "    MR_root = os.path.join(root_dir,\"MR\")\n",
    "    for each in os.listdir(MR_root):\n",
    "        each_path = os.path.join(MR_root,each)\n",
    "        if \"T2SPIR\" in os.listdir(each_path):\n",
    "            image_lst = os.listdir(os.path.join(each_path,\"T2SPIR/DICOM_anon\"))\n",
    "            for i in range(len(image_lst)):\n",
    "                image_path.append(os.path.join(each_path,'T2SPIR/DICOM_anon',image_lst[i]))\n",
    "                label_path.append(os.path.join(each_path,'T2SPIR/Ground',image_lst[i].replace('.dcm','.png')))\n",
    "            \n",
    "print(image_path[0])\n",
    "print(label_path[0])\n",
    "image = dicom.read_file(image_path[3]).pixel_array\n",
    "label = np.array(Image.open(label_path[3]).convert('L'))\n",
    "print(image.shape)\n",
    "print(label.shape)\n",
    "os.makedirs('/home/jaye/Documents/MedicalDatasets/CHAOS/processed_training/train_npz',exist_ok=True)\n",
    "os.makedirs('/home/jaye/Documents/MedicalDatasets/CHAOS/processed_training/test_npz',exist_ok=True)\n",
    "os.makedirs('/home/jaye/Documents/MedicalDatasets/CHAOS/processed_training/lists_ProstateX2/',exist_ok=True)\n",
    "train_file = open('/home/jaye/Documents/MedicalDatasets/CHAOS/processed_training/lists_ProstateX2/train.txt','w')\n",
    "test_file = open('/home/jaye/Documents/MedicalDatasets/CHAOS/processed_training/lists_ProstateX2/test.txt','w')\n",
    "for i in tqdm(range(len(image_lst))):\n",
    "    name_case = image_path[i].split(\"/\")[-1].replace('.dcm','')\n",
    "    image = dicom.read_file(image_path[i]).pixel_array\n",
    "    label = np.array(Image.open(label_path[i]).convert('L'))\n",
    "    image = image/255\n",
    "    # train and val dataset split\n",
    "    order = np.arange(len(image_lst))\n",
    "    np.random.shuffle(order)\n",
    "    test_order = order[:int(len(image_lst)/4)]\n",
    "    # train dataset \n",
    "    if (name_case) not in (np.array(image_lst).take(test_order)):\n",
    "        case_image = cv2.resize(image,(224,224),interpolation=cv2.INTER_NEAREST)\n",
    "        case_label = cv2.resize(label,(224,224),interpolation=cv2.INTER_NEAREST)\n",
    "        np.savez(\"/home/jaye/Documents/MedicalDatasets/ProstateX2/processed_training/train_npz/\" + str(name_case),image = case_image, label=case_label)\n",
    "        train_file.write(str(name_case) +'.npz'+'\\n')\n",
    "\n",
    "    else:\n",
    "        name_case = name_case.split('-')[:-1]\n",
    "        case_image = cv2.resize(image,(224,224),interpolation=cv2.INTER_NEAREST)\n",
    "        case_label = cv2.resize(label,(224,224),interpolation=cv2.INTER_NEAREST)\n",
    "        np.savez(\"/home/jaye/Documents/MedicalDatasets/ProstateX2/processed_training/test_npz/\" + str(name_case), image = case_image, label=case_label)\n",
    "        test_file.write(str(name_case) +'.npz'+'\\n')\n",
    "train_file.close()\n",
    "test_file.close()"
   ]
  },
  {
   "cell_type": "code",
   "execution_count": 47,
   "metadata": {},
   "outputs": [
    {
     "name": "stdout",
     "output_type": "stream",
     "text": [
      "[1 2]\n"
     ]
    }
   ],
   "source": [
    "x = [0,1,2]\n",
    "y = [1,2]\n",
    "print(np.array(x).take(y))\n"
   ]
  }
 ],
 "metadata": {
  "kernelspec": {
   "display_name": "Python 3.9.7 ('Jaye_env')",
   "language": "python",
   "name": "python3"
  },
  "language_info": {
   "codemirror_mode": {
    "name": "ipython",
    "version": 3
   },
   "file_extension": ".py",
   "mimetype": "text/x-python",
   "name": "python",
   "nbconvert_exporter": "python",
   "pygments_lexer": "ipython3",
   "version": "3.9.7"
  },
  "orig_nbformat": 4,
  "vscode": {
   "interpreter": {
    "hash": "c49df28cb8043e4861845afe5dab2d6e4016c9a927211c6f6abe4f280cce830c"
   }
  }
 },
 "nbformat": 4,
 "nbformat_minor": 2
}
