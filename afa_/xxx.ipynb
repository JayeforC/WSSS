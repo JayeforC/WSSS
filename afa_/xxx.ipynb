{
 "cells": [
  {
   "cell_type": "code",
   "execution_count": 12,
   "metadata": {},
   "outputs": [
    {
     "name": "stdout",
     "output_type": "stream",
     "text": [
      "torch.Size([2, 6, 256, 256])\n",
      "tensor([[-1.6653, -1.1141],\n",
      "        [-0.9544,  0.9486]])\n",
      "tensor([[-1.1141, -1.6653],\n",
      "        [ 0.9486, -0.9544]])\n"
     ]
    }
   ],
   "source": [
    "import torch\n",
    "x = torch.randn(2,3,256,256)\n",
    "attn = []\n",
    "for i in range(12):\n",
    "    attn.append(x)\n",
    "attn = torch.cat(attn[-2:],dim=1)\n",
    "print(attn.size())\n",
    "\n",
    "y = torch.randn(2,2)\n",
    "z = y.flip(-1)\n",
    "print(y)\n",
    "print(z)"
   ]
  }
 ],
 "metadata": {
  "kernelspec": {
   "display_name": "Python 3.9.7 ('pytorch')",
   "language": "python",
   "name": "python3"
  },
  "language_info": {
   "codemirror_mode": {
    "name": "ipython",
    "version": 3
   },
   "file_extension": ".py",
   "mimetype": "text/x-python",
   "name": "python",
   "nbconvert_exporter": "python",
   "pygments_lexer": "ipython3",
   "version": "3.9.7"
  },
  "orig_nbformat": 4,
  "vscode": {
   "interpreter": {
    "hash": "7c9c21c706ebf972d64f3012a5c3e1e7a56be9882271c91a7d0ccffdcc0e1451"
   }
  }
 },
 "nbformat": 4,
 "nbformat_minor": 2
}
